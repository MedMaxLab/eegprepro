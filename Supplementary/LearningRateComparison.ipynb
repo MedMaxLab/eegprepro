{
 "cells": [
  {
   "cell_type": "markdown",
   "id": "1a461afb-6a63-4070-aa83-b77eb59566b8",
   "metadata": {},
   "source": [
    "# Learning rate selection\n",
    "\n",
    "Notebook regarding the selection of the learning rate based on the validation accuracy\n",
    "achieved on a subset of training."
   ]
  },
  {
   "cell_type": "code",
   "execution_count": null,
   "id": "9d63c122-8bbe-4c11-87f5-43ad75e272b8",
   "metadata": {},
   "outputs": [],
   "source": [
    "import numpy as np\n",
    "import pandas as pd\n",
    "import matplotlib.pyplot as plt"
   ]
  },
  {
   "cell_type": "code",
   "execution_count": null,
   "id": "9e851337-97fe-4bdd-89dc-24a245e9267e",
   "metadata": {},
   "outputs": [],
   "source": [
    "def LearningRateSelector(Table, metric, model, pipeline, task, \n",
    "                         sampling = 125, outer=1, show_plot = True, verbose = True):\n",
    "\n",
    "    # check input parameters and extract better names for plot\n",
    "    metric_list = [\n",
    "        'accuracy_unbalanced', 'accuracy_weighted', 'precision_micro', \n",
    "        'precision_macro', 'precision_weighted', 'recall_micro', 'recall_macro',\n",
    "        'recall_weighted', 'f1score_micro', 'f1score_macro', 'f1score_weighted',\n",
    "        'rocauc_micro', 'rocauc_macro', 'rocauc_weighted', 'cohen_kappa', 'val_loss'\n",
    "    ]\n",
    "    model_dict = {\n",
    "        'eegnet': 'egn', 'shallownet': 'shn', 'deepconvnet': 'dcn',\n",
    "        'resnet': 'res', 'eegsym': 'egs', 'atcnet': 'atc', 'hybridnet': 'hyb',\n",
    "        'fbcnet': 'fbc'\n",
    "    }\n",
    "    pipeline_dict = {'raw': 'raw', 'filt': 'flt', 'ica': 'ica', 'icasr': 'isr'}\n",
    "    task_dict = {\n",
    "        'eyes': 'eye',\n",
    "        'alzheimer': 'alz',\n",
    "        'parkinson': 'pds',\n",
    "        'motorimagery': 'mmi',\n",
    "        'sleep': 'slp',\n",
    "        'psychosis': 'fep'\n",
    "    }\n",
    "\n",
    "    if metric in metric_list:\n",
    "        metric_full = metric.replace('_', ' ').replace('1','1-') \n",
    "    elif metric in [i.replace('_', ' ').replace('1','1-') for i in metric_list]:\n",
    "        metric_full = metric\n",
    "        metric = metric.replace(' ', '_').replace('1-','1')\n",
    "    else:\n",
    "        raise ValueError('metric not supported')\n",
    "    \n",
    "    if model in list(model_dict.keys()):\n",
    "        model_full = model\n",
    "        model = model_dict[model]\n",
    "    elif model in list(model_dict.values()):\n",
    "        inv_dict = {v: k for k, v in model_dict.items()}\n",
    "        model_full = inv_dict[model]\n",
    "    else:\n",
    "        raise ValueError('model not supported')\n",
    "\n",
    "    if pipeline in list(pipeline_dict.keys()):\n",
    "        pipeline_full = pipeline\n",
    "        pipeline = pipeline_dict[model]\n",
    "    elif pipeline in list(pipeline_dict.values()):\n",
    "        inv_dict = {v: k for k, v in pipeline_dict.items()}\n",
    "        pipeline_full = inv_dict[pipeline]\n",
    "    else:\n",
    "        raise ValueError('pipeline not supported')\n",
    "\n",
    "    if task in list(task_dict.keys()):\n",
    "        task_full = task\n",
    "        task = task_dict[task]\n",
    "    elif task in list(task_dict.values()):\n",
    "        inv_dict = {v: k for k, v in task_dict.items()}\n",
    "        task_full = inv_dict[task]\n",
    "    else:\n",
    "        raise ValueError('model not supported')\n",
    "\n",
    "    if isinstance(outer, list):\n",
    "        Ntrain = 5*len(outer)\n",
    "        TableMini = Table.loc[(Table['model'] == model) & \n",
    "            (Table['sampling_rate'] == sampling) & \n",
    "            (Table['pipeline'] == pipeline) & \n",
    "            (Table['task'] == task ) & \n",
    "            (Table['outer_fold'].isin(outer))]\n",
    "    else:\n",
    "        Ntrain = 5\n",
    "        TableMini = Table.loc[(Table['model'] == model) & \n",
    "            (Table['sampling_rate'] == sampling) & \n",
    "            (Table['pipeline'] == pipeline) & \n",
    "            (Table['task'] == task ) & \n",
    "            (Table['outer_fold'] == outer)]\n",
    "    lr_list = TableMini['learning_rate'].unique().tolist()\n",
    "    lr_list.sort(reverse=True)\n",
    "    lr_tick = [ ]\n",
    "    performances = [ ]\n",
    "    for idx, lr in enumerate(lr_list):\n",
    "        metrics = TableMini.loc[(TableMini['learning_rate'] == lr), metric]\n",
    "        metrics = metrics.to_list()\n",
    "        if len(metrics)==Ntrain:\n",
    "            lr_tick.append(\"{:.1e}\".format(lr))\n",
    "            performances.append(metrics)\n",
    "    \n",
    "    perfmat = np.array(performances).T\n",
    "    order = (-perfmat).argsort(axis=1)\n",
    "    ranks = order.argsort(axis=1)\n",
    "    ranksum = np.sum(ranks, axis=0)\n",
    "    perfmedian = np.median(perfmat,axis=0)\n",
    "    \n",
    "    lr_dict = {\n",
    "        'median': lr_list[np.argmax(perfmedian)],\n",
    "        'rank': lr_list[np.argmin(ranksum)]\n",
    "    }\n",
    "    if verbose:\n",
    "        print(' ')\n",
    "        print(metric_full + ' median values')\n",
    "        print(np.around(perfmedian, 4).tolist())\n",
    "        print(' ')\n",
    "        print(metric_full + ' max values')\n",
    "        print(np.around( np.max(perfmat, axis = 0), 4).tolist())\n",
    "        print(' ')\n",
    "        print(metric_full + ' min values')\n",
    "        print(np.around( np.min(perfmat, axis = 0), 4).tolist())\n",
    "        print(' ')\n",
    "        print(metric_full + ' rank values (lower values are better)')\n",
    "        print(ranksum.tolist())\n",
    "        print(' ')\n",
    "        print(metric_full + ' full rank matrix')\n",
    "        print(ranks)\n",
    "    \n",
    "    if show_plot:\n",
    "        plt.figure( figsize = (15,8))\n",
    "        plt.boxplot(performances, labels = lr_tick )\n",
    "        plt.title(\n",
    "            metric_full + ' -- model ' + model_full + \\\n",
    "            ', task ' + task_full + ', pipeline ' + pipeline_full + ' --',\n",
    "            fontsize = 22\n",
    "        )\n",
    "        plt.ylabel(metric_full, fontsize=20)\n",
    "        plt.yticks(fontsize=15)\n",
    "        plt.xlabel('Learning Rate', fontsize=20)\n",
    "        plt.xticks(fontsize=15)\n",
    "        plt.show()\n",
    "\n",
    "    return lr_dict"
   ]
  },
  {
   "cell_type": "code",
   "execution_count": null,
   "id": "255f335a-4152-4266-a811-bf00b0adefe7",
   "metadata": {},
   "outputs": [],
   "source": [
    "Table = pd.read_csv('ResultsTableLR.csv')\n",
    "sampling = 125\n",
    "outer = [1]\n",
    "pipeline = 'isr'\n",
    "metric = 'accuracy_weighted'"
   ]
  },
  {
   "cell_type": "markdown",
   "id": "4e0f3f52-bbf6-4659-bdd0-c5ea5d949281",
   "metadata": {},
   "source": [
    "## EEGNet"
   ]
  },
  {
   "cell_type": "code",
   "execution_count": null,
   "id": "e3c5d897-25c8-4a8f-b9e8-186d6ea7249a",
   "metadata": {},
   "outputs": [],
   "source": [
    "model = 'egn'"
   ]
  },
  {
   "cell_type": "code",
   "execution_count": null,
   "id": "a90f20be-9b8b-4fe4-aa30-b7b6bb481ca2",
   "metadata": {},
   "outputs": [],
   "source": [
    "task = 'eye'\n",
    "LearningRateSelector(Table, metric, model, pipeline, task, sampling, show_plot = True)"
   ]
  },
  {
   "cell_type": "code",
   "execution_count": null,
   "id": "ab086a9b-81e5-4db7-9645-937765901a26",
   "metadata": {},
   "outputs": [],
   "source": [
    "task = 'pds'\n",
    "LearningRateSelector(Table, metric, model, pipeline, task, sampling, show_plot = True)"
   ]
  },
  {
   "cell_type": "code",
   "execution_count": null,
   "id": "f9c1f2b1-f4fd-4a0d-8f4c-bf9aaca5d6b6",
   "metadata": {},
   "outputs": [],
   "source": [
    "task = 'alz'\n",
    "LearningRateSelector(Table, metric, model, pipeline, task, sampling, show_plot = True)"
   ]
  },
  {
   "cell_type": "code",
   "execution_count": null,
   "id": "6cbbb523-3418-4105-a4d7-9505def38b86",
   "metadata": {},
   "outputs": [],
   "source": [
    "task = 'mmi'\n",
    "LearningRateSelector(Table, metric, model, pipeline, task, sampling, show_plot = True)"
   ]
  },
  {
   "cell_type": "code",
   "execution_count": null,
   "id": "ba1f7e55-3abf-4106-9dc3-807a0e45e097",
   "metadata": {},
   "outputs": [],
   "source": [
    "task = 'sleep'\n",
    "LearningRateSelector(Table, metric, model, pipeline, task, sampling, show_plot = True)"
   ]
  },
  {
   "cell_type": "code",
   "execution_count": null,
   "id": "094026cd-683c-4099-82e8-4f208ea3564d",
   "metadata": {},
   "outputs": [],
   "source": [
    "task = 'fep'\n",
    "LearningRateSelector(Table, metric, model, pipeline, task, sampling, show_plot = True)"
   ]
  },
  {
   "cell_type": "markdown",
   "id": "d92e34e8-86ae-45aa-a80f-97adab43b8a6",
   "metadata": {},
   "source": [
    "## ShallowNet"
   ]
  },
  {
   "cell_type": "code",
   "execution_count": null,
   "id": "a01deb90-f257-4dd7-af8b-1cc5ef2a3f7d",
   "metadata": {},
   "outputs": [],
   "source": [
    "model = 'shn'"
   ]
  },
  {
   "cell_type": "code",
   "execution_count": null,
   "id": "a7ca308a-fdf6-4e70-aaa4-4859f0d8dd8b",
   "metadata": {},
   "outputs": [],
   "source": [
    "task = 'eye'\n",
    "LearningRateSelector(Table, metric, model, pipeline, task, sampling, show_plot = True)"
   ]
  },
  {
   "cell_type": "code",
   "execution_count": null,
   "id": "00a06573-59e8-44b0-b802-4b6009cee1a3",
   "metadata": {},
   "outputs": [],
   "source": [
    "task = 'pds'\n",
    "LearningRateSelector(Table, metric, model, pipeline, task, sampling, show_plot = True)"
   ]
  },
  {
   "cell_type": "code",
   "execution_count": null,
   "id": "fbf70598-09b3-410b-a381-34253b0a14d0",
   "metadata": {},
   "outputs": [],
   "source": [
    "task = 'alz'\n",
    "LearningRateSelector(Table, metric, model, pipeline, task, sampling, show_plot = True)"
   ]
  },
  {
   "cell_type": "code",
   "execution_count": null,
   "id": "2e803970-2e37-4702-b9ba-421a9f3bb303",
   "metadata": {},
   "outputs": [],
   "source": [
    "task = 'mmi'\n",
    "LearningRateSelector(Table, metric, model, pipeline, task, sampling, show_plot = True)"
   ]
  },
  {
   "cell_type": "code",
   "execution_count": null,
   "id": "e9058629-3b41-4452-9ffa-1b19fa070121",
   "metadata": {},
   "outputs": [],
   "source": [
    "task = 'sleep'\n",
    "LearningRateSelector(Table, metric, model, pipeline, task, sampling, show_plot = True)"
   ]
  },
  {
   "cell_type": "code",
   "execution_count": null,
   "id": "52a46500-2631-485d-84d5-61cbd4d3cbff",
   "metadata": {},
   "outputs": [],
   "source": [
    "task = 'fep'\n",
    "LearningRateSelector(Table, metric, model, pipeline, task, sampling, show_plot = True)"
   ]
  },
  {
   "cell_type": "markdown",
   "id": "e6579ab0-d3bd-4af8-8341-a808016f9aa1",
   "metadata": {},
   "source": [
    "## DeepConvNet"
   ]
  },
  {
   "cell_type": "code",
   "execution_count": null,
   "id": "7fa62f18-90d2-4000-ac4e-46e6f5eff1dd",
   "metadata": {},
   "outputs": [],
   "source": [
    "model = 'dcn'"
   ]
  },
  {
   "cell_type": "code",
   "execution_count": null,
   "id": "5d45f1e8-d960-4514-85d0-2d611ce0b62c",
   "metadata": {},
   "outputs": [],
   "source": [
    "task = 'eye'\n",
    "LearningRateSelector(Table, metric, model, pipeline, task, sampling, show_plot = True)"
   ]
  },
  {
   "cell_type": "code",
   "execution_count": null,
   "id": "b76b83d3-9fce-4c2d-b729-cdc58c047ea0",
   "metadata": {},
   "outputs": [],
   "source": [
    "task = 'pds'\n",
    "LearningRateSelector(Table, metric, model, pipeline, task, sampling, show_plot = True)"
   ]
  },
  {
   "cell_type": "code",
   "execution_count": null,
   "id": "787e9d6c-bbc5-42d5-9f2e-7c6b706265a1",
   "metadata": {},
   "outputs": [],
   "source": [
    "task = 'alz'\n",
    "LearningRateSelector(Table, metric, model, pipeline, task, sampling, show_plot = True)"
   ]
  },
  {
   "cell_type": "code",
   "execution_count": null,
   "id": "21c3eb00-e50f-47ab-9294-a4146787dcbb",
   "metadata": {},
   "outputs": [],
   "source": [
    "task = 'mmi'\n",
    "LearningRateSelector(Table, metric, model, pipeline, task, sampling, show_plot = True)"
   ]
  },
  {
   "cell_type": "code",
   "execution_count": null,
   "id": "b9023398-1803-41b9-82ea-cc57503c4e37",
   "metadata": {},
   "outputs": [],
   "source": [
    "task = 'sleep'\n",
    "LearningRateSelector(Table, metric, model, pipeline, task, sampling, show_plot = True)"
   ]
  },
  {
   "cell_type": "code",
   "execution_count": null,
   "id": "233d4a97-672e-496f-b6c9-66c40dd2ce06",
   "metadata": {},
   "outputs": [],
   "source": [
    "task = 'fep'\n",
    "LearningRateSelector(Table, metric, model, pipeline, task, sampling, show_plot = True)"
   ]
  },
  {
   "cell_type": "markdown",
   "id": "847585c0-ca56-406a-9b60-1ae4e3779b87",
   "metadata": {},
   "source": [
    "## FBCNet"
   ]
  },
  {
   "cell_type": "code",
   "execution_count": null,
   "id": "53b8e507-f19c-408b-b64e-321cc07e8ee7",
   "metadata": {},
   "outputs": [],
   "source": [
    "model = 'fbc'"
   ]
  },
  {
   "cell_type": "code",
   "execution_count": null,
   "id": "c3882ae8-9c15-4604-bf88-d923a6d24263",
   "metadata": {},
   "outputs": [],
   "source": [
    "task = 'eye'\n",
    "LearningRateSelector(Table, metric, model, pipeline, task, sampling, show_plot = True)"
   ]
  },
  {
   "cell_type": "code",
   "execution_count": null,
   "id": "6e9b8d8b-129c-41c2-83c4-7a03532f528c",
   "metadata": {},
   "outputs": [],
   "source": [
    "task = 'pds'\n",
    "LearningRateSelector(Table, metric, model, pipeline, task, sampling, show_plot = True)"
   ]
  },
  {
   "cell_type": "code",
   "execution_count": null,
   "id": "aba9d672-378b-4d08-b209-d46c064843b3",
   "metadata": {},
   "outputs": [],
   "source": [
    "task = 'alz'\n",
    "LearningRateSelector(Table, metric, model, pipeline, task, sampling, show_plot = True)"
   ]
  },
  {
   "cell_type": "code",
   "execution_count": null,
   "id": "c4d403df-6750-46a2-9ea4-7822565eb0dd",
   "metadata": {},
   "outputs": [],
   "source": [
    "task = 'mmi'\n",
    "LearningRateSelector(Table, metric, model, pipeline, task, sampling, show_plot = True)"
   ]
  },
  {
   "cell_type": "code",
   "execution_count": null,
   "id": "75bae3a3-3c96-481d-b74e-6988dcb9117a",
   "metadata": {},
   "outputs": [],
   "source": [
    "task = 'sleep'\n",
    "LearningRateSelector(Table, metric, model, pipeline, task, sampling, show_plot = True)"
   ]
  },
  {
   "cell_type": "code",
   "execution_count": null,
   "id": "e6cfa9a3-a3bb-4233-b68b-523d95f2583b",
   "metadata": {},
   "outputs": [],
   "source": [
    "task = 'fep'\n",
    "LearningRateSelector(Table, metric, model, pipeline, task, sampling, show_plot = True)"
   ]
  }
 ],
 "metadata": {
  "kernelspec": {
   "display_name": "Python 3 (ipykernel)",
   "language": "python",
   "name": "python3"
  },
  "language_info": {
   "codemirror_mode": {
    "name": "ipython",
    "version": 3
   },
   "file_extension": ".py",
   "mimetype": "text/x-python",
   "name": "python",
   "nbconvert_exporter": "python",
   "pygments_lexer": "ipython3",
   "version": "3.11.6"
  }
 },
 "nbformat": 4,
 "nbformat_minor": 5
}
